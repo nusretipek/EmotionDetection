{
 "cells": [
  {
   "cell_type": "markdown",
   "metadata": {
    "id": "o1TusDmPrjSf"
   },
   "source": [
    "# **Classification of Images in Yale & KDEF Databases** "
   ]
  },
  {
   "cell_type": "markdown",
   "metadata": {
    "id": "fEiN5yusDCI8"
   },
   "source": [
    "## **Foreword**"
   ]
  },
  {
   "cell_type": "markdown",
   "metadata": {
    "id": "MKE2k3pfr3gt"
   },
   "source": [
    "### **Introduction & Citation**\r\n",
    "\r\n",
    "As a source of images two different databases utilized;\r\n",
    "\r\n",
    "1. The original dataset of Yale faces containing 165 grayscale images of 15 individuals. More metadata can be found here: http://vision.ucsd.edu/datasetsAll\r\n",
    "\r\n",
    "2. Karolinska Directed Emotional Faces (KDEF) where nearly 500 pictures and annotated target emotions. More metadata can be found here: https://www.ugent.be/pp/ekgp/en/research/research-groups/panlab/kdef\r\n",
    "\r\n",
    "\r\n",
    "---\r\n",
    "\r\n",
    "\r\n",
    "The mathematical conversion of the face landmarks are inspired from the hint website: http://www.paulvangent.com/2016/08/05/emotion-recognition-using-facial-landmarks/\r\n",
    "\r\n",
    "While I got inspired about the implementations from other sources as well, all of the following code is written by myself and no copy code is used. Excluding the following snipped which is directly reused from the hint website;\r\n",
    "\r\n",
    "```\r\n",
    "      for x, y, w, z in zip(xcentral, ycentral, xlist, ylist):\r\n",
    "        landmarks_vectorised.append(w)\r\n",
    "        landmarks_vectorised.append(z)\r\n",
    "        meannp = np.asarray((ymean,xmean))\r\n",
    "        coornp = np.asarray((z,w))\r\n",
    "        dist = np.linalg.norm(coornp-meannp)\r\n",
    "        landmarks_vectorised.append(dist)\r\n",
    "        landmarks_vectorised.append((math.atan2(y, x)*360)/(2*math.pi))\r\n",
    "```\r\n",
    "\r\n",
    "\r\n",
    "\r\n"
   ]
  },
  {
   "cell_type": "markdown",
   "metadata": {
    "id": "q4cKF1JJuLSO"
   },
   "source": [
    "### **How to use this notebook?**\r\n",
    "\r\n",
    "This notebook is designed to be a sequential run. Skipping some cells may cause a fail. The total sequential run time is about 15 minutes. Please run the cell blocks sequentially up until **classification models** header. After this point, the run order can be personalized. \r\n"
   ]
  },
  {
   "cell_type": "markdown",
   "metadata": {
    "id": "XAo-Xs2eDjtG"
   },
   "source": [
    "### **A word on classification metrics**\r\n",
    "\r\n",
    "Under the **classification report function**, there are many different evaluation metrics reported. Unfortunately, there is no metric to rule them all. Yet, we can argue that Matthews Correlation Coefficient (MCC) is a good option given the context. For multi-class implementation, please see https://journals.plos.org/plosone/article?id=10.1371/journal.pone.0041882\r\n",
    "\r\n",
    "For a detailed discussion on why it is a better choice than f1 and accuracy, please see https://bmcgenomics.biomedcentral.com/articles/10.1186/s12864-019-6413-7\r\n",
    "\r\n",
    "Although we will use the MCC to decide which classifier outperforms others, the final model will be reported with a full classification report. Since other statistics are useful to interpret the results and even compare. "
   ]
  },
  {
   "cell_type": "markdown",
   "metadata": {
    "id": "v3P2gQliM2fR"
   },
   "source": [
    "### **Benchmark: Another study with KDEF dataset**\r\n",
    "\r\n",
    "Please see the following paper from Stanford University using deep learning techniques and SVM: http://cs231n.stanford.edu/reports/2017/pdfs/224.pdf\r\n",
    "\r\n",
    "The SVM accuracy reported 0.379 and the highest accuracy reported as 0.758 with the ensemble model. Since they did not report MCC, we cannot compare it with the metric of our initial choice. \r\n",
    "\r\n",
    "---\r\n",
    "\r\n",
    "\r\n",
    "*Our models reached an accuracy of 0.734 with naive test/train split with SVM and 0.723 mean accuracy with 10 fold cross-validation.*\r\n",
    "\r\n"
   ]
  },
  {
   "cell_type": "markdown",
   "metadata": {
    "id": "tqM-ftK9dq_U"
   },
   "source": [
    "### **Limitations & Possible improvements**\r\n",
    "\r\n",
    "1. The random split function use a shuffle from the random library, there is no seed set for this operation. This implies that with every run, similar but variant results are expected.\r\n",
    "2. Hyperparameter search and optimization is not performed. The models tried with *sensible* options. There is still room to increase MCC by parameter optimization.\r\n",
    "3. Only a single algorithm to translate landmarks to mathematical arrays used (inspired from the hint website). There could be other transformations such as polygons from landmarks or different distances such as Mahalanobis distance can be used to improve the input.\r\n",
    "4. Deep learning methods are left out of scope. It is well-known that combining feature extraction and classification tasks with neural networks such as CNN usually outperforms the split tasks as this one. One can consider these models for improvement.  \r\n",
    "5. Yale faces dataset has a second extensive edition over one GB, it could be used to improve training.\r\n",
    "6. Some faces could not be detected from KDEF dataset. This is behaviour is due to the close up pictures. One can apply padding in all edges before detecting faces which can increase the face detections. \r\n"
   ]
  },
  {
   "cell_type": "markdown",
   "metadata": {
    "id": "3C8CEYuCrY6G"
   },
   "source": [
    "## **Import Libraries & Test Initial Data** "
   ]
  },
  {
   "cell_type": "code",
   "execution_count": null,
   "metadata": {
    "colab": {
     "base_uri": "https://localhost:8080/"
    },
    "id": "GW7hcioiEwX3",
    "outputId": "8533303b-bea1-4fe3-8385-1e2b0501df16"
   },
   "outputs": [
    {
     "name": "stdout",
     "output_type": "stream",
     "text": [
      "All imports & builds are successfully completed!\n"
     ]
    }
   ],
   "source": [
    "# Install & Import libraries \r\n",
    "\r\n",
    "## Computer vision & Image Processing\r\n",
    "\r\n",
    "import cv2\r\n",
    "import dlib\r\n",
    "from PIL import Image\r\n",
    "from google.colab.patches import cv2_imshow\r\n",
    "\r\n",
    "## Machine Learning\r\n",
    "\r\n",
    "from sklearn.svm import SVC\r\n",
    "from sklearn.neighbors import KNeighborsClassifier\r\n",
    "from sklearn.linear_model import LogisticRegression\r\n",
    "from sklearn.ensemble import GradientBoostingClassifier\r\n",
    "from sklearn.multiclass import OneVsRestClassifier\r\n",
    "from xgboost import XGBClassifier\r\n",
    "from sklearn.ensemble import VotingClassifier\r\n",
    "\r\n",
    "# Cross validation\r\n",
    "\r\n",
    "from sklearn.model_selection import KFold\r\n",
    "from sklearn.model_selection import cross_val_score\r\n",
    "from sklearn.model_selection import cross_val_predict\r\n",
    "\r\n",
    "# Classification Metrics\r\n",
    "\r\n",
    "from sklearn.metrics import classification_report\r\n",
    "from sklearn.metrics import accuracy_score\r\n",
    "from sklearn.metrics import matthews_corrcoef\r\n",
    "\r\n",
    "## Miscellaneous\r\n",
    "\r\n",
    "from IPython.display import clear_output\r\n",
    "import pandas as pd\r\n",
    "import glob\r\n",
    "import random\r\n",
    "import numpy as np\r\n",
    "import math\r\n",
    "import matplotlib.pyplot as plt\r\n",
    "import warnings\r\n",
    "warnings.filterwarnings('ignore') \r\n",
    "\r\n",
    "## Build dlib landmarks\r\n",
    "\r\n",
    "!wget http://dlib.net/files/shape_predictor_68_face_landmarks.dat.bz2\r\n",
    "!bunzip2 /content/shape_predictor_68_face_landmarks.dat.bz2\r\n",
    "datFile =  \"/content/shape_predictor_68_face_landmarks.dat\"\r\n",
    "\r\n",
    "clear_output(wait=True)\r\n",
    "print('All imports & builds are successfully completed!')"
   ]
  },
  {
   "cell_type": "code",
   "execution_count": null,
   "metadata": {
    "colab": {
     "base_uri": "https://localhost:8080/"
    },
    "id": "eobD3F3cuFU2",
    "outputId": "abbd9876-d45c-4a2e-e04b-0a42274a5651"
   },
   "outputs": [
    {
     "name": "stdout",
     "output_type": "stream",
     "text": [
      "Yale faces dataset downloaded & unzipped successfully!\n"
     ]
    }
   ],
   "source": [
    "# Download & Unzip datasets\r\n",
    "\r\n",
    "## Yale faces (first edition)\r\n",
    "try:\r\n",
    "  !wget http://vision.ucsd.edu/datasets/yale_face_dataset_original/yalefaces.zip\r\n",
    "  !unzip yalefaces.zip\r\n",
    "  clear_output(wait=True)\r\n",
    "  print('Yale faces dataset downloaded & unzipped successfully!')\r\n",
    "except:\r\n",
    "  print('Error occured while downloading Yale faces dataset!')"
   ]
  },
  {
   "cell_type": "code",
   "execution_count": null,
   "metadata": {
    "colab": {
     "base_uri": "https://localhost:8080/"
    },
    "id": "DCE_E-GlJjTE",
    "outputId": "31f177d2-0211-431d-c24a-8c29b7593783"
   },
   "outputs": [
    {
     "name": "stdout",
     "output_type": "stream",
     "text": [
      "KDEF dataset downloaded & unzipped successfully!\n"
     ]
    }
   ],
   "source": [
    "# Download & Unzip datasets\r\n",
    "\r\n",
    "## Karolinska Directed Emotional Faces (KDEF)\r\n",
    "try:\r\n",
    "  !wget https://www.ugent.be/pp/ekgp/en/research/research-groups/panlab/kdef/pictures.zip\r\n",
    "  !wget https://www.ugent.be/pp/ekgp/en/research/research-groups/panlab/kdef/dataset.xls\r\n",
    "  !unzip pictures.zip\r\n",
    "  !mv 'KDEF (reeks A) zonder haarlijn' kdeffaces\r\n",
    "  clear_output(wait=True)\r\n",
    "  print('KDEF dataset downloaded & unzipped successfully!')\r\n",
    "except:\r\n",
    "  print('Error occured while downloading Yale faces dataset!')"
   ]
  },
  {
   "cell_type": "code",
   "execution_count": null,
   "metadata": {
    "colab": {
     "base_uri": "https://localhost:8080/",
     "height": 204
    },
    "id": "OLbTRxThPKsJ",
    "outputId": "0f3bbd81-48f1-4a37-cc83-568d44413cc7"
   },
   "outputs": [
    {
     "data": {
      "text/html": [
       "<div>\n",
       "<style scoped>\n",
       "    .dataframe tbody tr th:only-of-type {\n",
       "        vertical-align: middle;\n",
       "    }\n",
       "\n",
       "    .dataframe tbody tr th {\n",
       "        vertical-align: top;\n",
       "    }\n",
       "\n",
       "    .dataframe thead th {\n",
       "        text-align: right;\n",
       "    }\n",
       "</style>\n",
       "<table border=\"1\" class=\"dataframe\">\n",
       "  <thead>\n",
       "    <tr style=\"text-align: right;\">\n",
       "      <th></th>\n",
       "      <th>KDEF code</th>\n",
       "      <th>Target emotion</th>\n",
       "    </tr>\n",
       "  </thead>\n",
       "  <tbody>\n",
       "    <tr>\n",
       "      <th>0</th>\n",
       "      <td>M11AF</td>\n",
       "      <td>Fearful</td>\n",
       "    </tr>\n",
       "    <tr>\n",
       "      <th>1</th>\n",
       "      <td>M25AF</td>\n",
       "      <td>Fearful</td>\n",
       "    </tr>\n",
       "    <tr>\n",
       "      <th>2</th>\n",
       "      <td>M14AF</td>\n",
       "      <td>Fearful</td>\n",
       "    </tr>\n",
       "    <tr>\n",
       "      <th>3</th>\n",
       "      <td>M17AF</td>\n",
       "      <td>Fearful</td>\n",
       "    </tr>\n",
       "    <tr>\n",
       "      <th>4</th>\n",
       "      <td>M19AF</td>\n",
       "      <td>Fearful</td>\n",
       "    </tr>\n",
       "  </tbody>\n",
       "</table>\n",
       "</div>"
      ],
      "text/plain": [
       "  KDEF code Target emotion\n",
       "0  M11AF           Fearful\n",
       "1  M25AF           Fearful\n",
       "2  M14AF           Fearful\n",
       "3  M17AF           Fearful\n",
       "4  M19AF           Fearful"
      ]
     },
     "execution_count": 4,
     "metadata": {
      "tags": []
     },
     "output_type": "execute_result"
    }
   ],
   "source": [
    "# Parse the KDEF target outcomes\r\n",
    "\r\n",
    "kdef_frame = pd.read_excel(\"dataset.xls\")\r\n",
    "kdef_frame = kdef_frame[[\"KDEF code\", \"Target emotion\"]]\r\n",
    "kdef_frame.head()"
   ]
  },
  {
   "cell_type": "code",
   "execution_count": null,
   "metadata": {
    "colab": {
     "base_uri": "https://localhost:8080/",
     "height": 233
    },
    "id": "3YTcFeCSxjrc",
    "outputId": "e2d2b7e2-6d6d-495e-dd39-1f3371cfabd7"
   },
   "outputs": [
    {
     "data": {
      "text/plain": [
       "Text(0.5, 1.0, 'Yale: Subject 01 (Normal)')"
      ]
     },
     "execution_count": 5,
     "metadata": {
      "tags": []
     },
     "output_type": "execute_result"
    },
    {
     "data": {
      "image/png": "[encoded data removed]",
      "text/plain": [
       "<Figure size 432x288 with 2 Axes>"
      ]
     },
     "metadata": {
      "needs_background": "light",
      "tags": []
     },
     "output_type": "display_data"
    }
   ],
   "source": [
    "## Open random image from datasets\r\n",
    "\r\n",
    "kdef_r1 = Image.open(\"kdeffaces/F01AF.jpg\")\r\n",
    "yale_r1 = Image.open(\"yalefaces/subject01.gif\")\r\n",
    "\r\n",
    "fig, ax = plt.subplots(1,2)\r\n",
    "ax[0].imshow(kdef_r1)\r\n",
    "ax[0].set_title('KDEF: F01AF (Fearful)')\r\n",
    "ax[1].imshow(yale_r1)\r\n",
    "ax[1].set_title('Yale: Subject 01 (Normal)')"
   ]
  },
  {
   "cell_type": "markdown",
   "metadata": {
    "id": "jTrxijsErV4R"
   },
   "source": [
    "## **Functions**"
   ]
  },
  {
   "cell_type": "code",
   "execution_count": null,
   "metadata": {
    "id": "iXYuRzyiC7PD"
   },
   "outputs": [],
   "source": [
    "# Functions \r\n",
    "\r\n",
    "## Get training & testing image locations\r\n",
    "\r\n",
    "### Yale dataset\r\n",
    "# - The file names contain valuable information regarding the state of the emotion.\r\n",
    "# - We need to extract this information as our target outcome (predictor labels).\r\n",
    "# - This function returns training images and test images in order. \r\n",
    "\r\n",
    "def get_yale_files(image_folder, emotion_codes, training_size): \r\n",
    "    image_set = glob.glob(image_folder)\r\n",
    "    final_image_set = []\r\n",
    "    for f in image_set:\r\n",
    "      emotion_sub = f[f.rindex('.')+1:]\r\n",
    "      if (emotion_sub in emotion_codes):\r\n",
    "        final_image_set.append(f)\r\n",
    "    random.shuffle(final_image_set)\r\n",
    "    training_coef = int(len(final_image_set)*training_size)\r\n",
    "    return final_image_set[:training_coef], final_image_set[training_coef:]\r\n",
    "\r\n",
    "### KDEF dataset\r\n",
    "# - The emotional states are stored in a separate dataframe, the names are arbitrary.\r\n",
    "# - This will shorten the function to get training and testing images.\r\n",
    "# - This function returns training images and test images in order.\r\n",
    "\r\n",
    "def get_kdef_files(image_folder, training_size): \r\n",
    "    image_set = glob.glob(image_folder)\r\n",
    "    random.shuffle(image_set)\r\n",
    "    training_coef = int(len(image_set)*training_size)\r\n",
    "    return image_set[:training_coef], image_set[training_coef:]\r\n",
    "\r\n",
    "## Extract face features\r\n",
    "\r\n",
    "### Assign detector & face landmark choice\r\n",
    "\r\n",
    "detector = dlib.get_frontal_face_detector()\r\n",
    "predictor = dlib.shape_predictor(\"shape_predictor_68_face_landmarks.dat\")\r\n",
    "\r\n",
    "def get_face_landmarks(input_image):\r\n",
    "  \r\n",
    "  # - Yale faces use gif format so that cv2 VideoCapture is used to get embed.\r\n",
    "  capture = cv2.VideoCapture(input_image)\r\n",
    "  bool_op, image = capture.read()\r\n",
    "  capture.release()\r\n",
    "\r\n",
    "  # - If successfully captured the image then process further.\r\n",
    "  # - KDEF faces are in gray scale already, yet favor inclusuve function.\r\n",
    "  # - All Images should contain only a single face otherwise, no match with outcome/\r\n",
    "\r\n",
    "  if bool_op:\r\n",
    "    gray = cv2.cvtColor(src=image, code=cv2.COLOR_BGR2GRAY)\r\n",
    "    faces = detector(gray)\r\n",
    "    if (len(faces) != 1):\r\n",
    "      print('Face could not be detected: ', input_image)\r\n",
    "      return None\r\n",
    "    else:\r\n",
    "      xlist = []\r\n",
    "      ylist = []\r\n",
    "      landmarks = predictor(image=gray, box=faces[0])\r\n",
    "\r\n",
    "      # - Get the face landmark x, y coordinates from landmark 0 to 68\r\n",
    "      for n in range(1, 68):\r\n",
    "        xlist.append(float(landmarks.part(n).x))\r\n",
    "        ylist.append(float(landmarks.part(n).y))\r\n",
    "\r\n",
    "      # - Get the mean values of the x and y coordinates to find the face centroid\r\n",
    "      xmean = np.mean(xlist)\r\n",
    "      ymean = np.mean(ylist)\r\n",
    "\r\n",
    "      # - Form a new array that computes the distance from the centroid x||y.\r\n",
    "      xcentral = [(x-xmean) for x in xlist] \r\n",
    "      ycentral = [(y-ymean) for y in ylist]\r\n",
    "\r\n",
    "      landmarks_vectorised = []\r\n",
    "      for x, y, w, z in zip(xcentral, ycentral, xlist, ylist):\r\n",
    "        landmarks_vectorised.append(w)\r\n",
    "        landmarks_vectorised.append(z)\r\n",
    "        meannp = np.asarray((ymean,xmean))\r\n",
    "        coornp = np.asarray((z,w))\r\n",
    "        dist = np.linalg.norm(coornp-meannp)\r\n",
    "        landmarks_vectorised.append(dist)\r\n",
    "        landmarks_vectorised.append((math.atan2(y, x)*360)/(2*math.pi))\r\n",
    "      return landmarks_vectorised\r\n",
    "\r\n",
    "## Create train_X, train_y, test_X, tesy_y from landmarks\r\n",
    "\r\n",
    "### Yale dataset\r\n",
    "# - The target outcomes assigned from the filenames directly.\r\n",
    "# - Returns training predictiors, train outcomes, test predictors, tesy outcome in order.\r\n",
    "def get_yale_train_test(training_files, prediction_files, yale_emotions):\r\n",
    "    yale_outcome_codes = list(range(1, len(yale_emotions)+1))\r\n",
    "    encoding_dict = dict(zip(yale_emotions, yale_outcome_codes))\r\n",
    "    train_X = []\r\n",
    "    train_y = []\r\n",
    "    for t in training_files:\r\n",
    "      train_X.append(get_face_landmarks(t))\r\n",
    "      train_y.append(encoding_dict[t[t.rindex('.')+1:]])\r\n",
    "    test_X = []\r\n",
    "    tesy_y = []\r\n",
    "    for p in prediction_files:\r\n",
    "      test_X.append(get_face_landmarks(p))\r\n",
    "      tesy_y.append(encoding_dict[p[p.rindex('.')+1:]])\r\n",
    "    return train_X, train_y, test_X, tesy_y\r\n",
    "\r\n",
    "### KDEF dataset\r\n",
    "# - The target outcomes are extracted from the given dataframe.\r\n",
    "# - Returns training predictiors, train outcomes, test predictors, tesy outcome in order.\r\n",
    "def get_kdef_train_test(training_files, prediction_files, df):\r\n",
    "    df[\"KDEF code\"] = df[\"KDEF code\"].apply(lambda x: x.strip())\r\n",
    "    values = df[\"Target emotion\"].unique()\r\n",
    "    keys = list(range(1, len(values)+1))\r\n",
    "    encoding_dict = dict(zip(values,keys))\r\n",
    "    train_X = []\r\n",
    "    train_y = []\r\n",
    "    for t in training_files:\r\n",
    "      try:\r\n",
    "        t_prefix = t[t.rindex('/')+1:t.rindex('.')]\r\n",
    "        training_df_index = df[df[\"KDEF code\"] == t_prefix].index[0]\r\n",
    "        if (get_face_landmarks(t) is not None):\r\n",
    "          train_X.append(get_face_landmarks(t))\r\n",
    "          train_y.append(encoding_dict[df[\"Target emotion\"][training_df_index]])\r\n",
    "      except:\r\n",
    "        print('Following file could not be parsed: ', t)\r\n",
    "        pass\r\n",
    "    test_X = []\r\n",
    "    tesy_y = []\r\n",
    "    for p in prediction_files:\r\n",
    "      try:\r\n",
    "        p_prefix = p[p.rindex('/')+1:p.rindex('.')]\r\n",
    "        prediction_df_index = df[df[\"KDEF code\"] == p_prefix].index[0]\r\n",
    "        if (get_face_landmarks(p) is not None):\r\n",
    "          test_X.append(get_face_landmarks(p))\r\n",
    "          tesy_y.append(encoding_dict[df[\"Target emotion\"][prediction_df_index]])\r\n",
    "      except:\r\n",
    "        print('Following file could not be parsed: ', p)\r\n",
    "        pass\r\n",
    "    return train_X, train_y, test_X, tesy_y\r\n",
    "\r\n",
    "##Classification functions\r\n",
    "# - Naive classification use train and test split and fit only once.\r\n",
    "# - Cross validation use kfold technique (10-fold).\r\n",
    "# - Both functions can be used with all ski-learn classifiers.\r\n",
    "def naive_classification(model, train_x, train_y, test_x, test_y, emotion_coding):\r\n",
    "  model.fit(np.array(train_x), np.array(train_y))\r\n",
    "  pred_train = model.predict(np.array(train_x))\r\n",
    "  pred_test = model.predict(np.array(test_x))\r\n",
    "  naive_classification_metrics(np.array(train_y), np.array(pred_train), np.array(test_y), np.array(pred_test), emotion_coding)\r\n",
    "\r\n",
    "def naive_classification_metrics(train_true, train_pred, test_true, test_pred, emotion_coding):\r\n",
    "    print('Training accuracy score: '.ljust(30), accuracy_score(train_true, train_true))\r\n",
    "    print('Test accuracy score: '.ljust(30), accuracy_score(test_true, test_pred) )\r\n",
    "    print('Test MCC score: '.ljust(30), matthews_corrcoef(test_true, test_pred), '\\n')\r\n",
    "    print('Test Classification Report: \\n')\r\n",
    "    print(classification_report(test_true, test_pred, target_names = emotion_coding))\r\n",
    "\r\n",
    "def cv_classification(model, train_x, train_y, test_x, test_y, emotion_coding):\r\n",
    "  X = np.array(train_x + test_x)\r\n",
    "  y = np.array(train_y + test_y)\r\n",
    "  cv = KFold(n_splits=10, random_state=22494, shuffle=True)\r\n",
    "  scores = cross_val_score(model, X, y, scoring='accuracy', cv=cv, n_jobs=1)\r\n",
    "  pred_all = cross_val_predict(model, X, y, cv=cv)\r\n",
    "  print('CV accuracy (mean): '.ljust(30), np.mean(scores))\r\n",
    "  print('CV accuracy (std. dev.): '.ljust(30), np.std(scores))\r\n",
    "  print('CV predict MCC score: '.ljust(30), matthews_corrcoef(y, pred_all), '\\n')\r\n",
    "  print('CV Classification Report: \\n')\r\n",
    "  print(classification_report(y, pred_all, target_names = emotion_coding))"
   ]
  },
  {
   "cell_type": "markdown",
   "metadata": {
    "id": "8P6oTIk1q3on"
   },
   "source": [
    "## **Preprocess Phase**"
   ]
  },
  {
   "cell_type": "code",
   "execution_count": null,
   "metadata": {
    "id": "H-inncc6SPku"
   },
   "outputs": [],
   "source": [
    "# Get tranining / testing images\r\n",
    "\r\n",
    "yale_emotions = ['happy','normal','sad','sleepy']\r\n",
    "yale_train, yale_test = get_yale_files('/content/yalefaces/*', yale_emotions, 0.8)\r\n",
    "kdef_train, kdef_test = get_kdef_files('/content/kdeffaces/*jpg', 0.8)"
   ]
  },
  {
   "cell_type": "code",
   "execution_count": null,
   "metadata": {
    "colab": {
     "base_uri": "https://localhost:8080/"
    },
    "id": "4i7tKksIdj2_",
    "outputId": "0e0262af-5741-44be-a104-0bfadee6311d"
   },
   "outputs": [
    {
     "name": "stdout",
     "output_type": "stream",
     "text": [
      "Face could not be detected:  /content/kdeffaces/M33SU.jpg\n",
      "Face could not be detected:  /content/kdeffaces/M34AF.jpg\n",
      "Face could not be detected:  /content/kdeffaces/M27SU.jpg\n",
      "Face could not be detected:  /content/kdeffaces/M03SA.jpg\n",
      "Face could not be detected:  /content/kdeffaces/F27DI.jpg\n",
      "Face could not be detected:  /content/kdeffaces/F30DI.jpg\n",
      "Face could not be detected:  /content/kdeffaces/M14AF.jpg\n",
      "Face could not be detected:  /content/kdeffaces/F25SA.jpg\n",
      "Face could not be detected:  /content/kdeffaces/F06DI.jpg\n",
      "Face could not be detected:  /content/kdeffaces/F21SU.jpg\n",
      "Face could not be detected:  /content/kdeffaces/M34SU.jpg\n",
      "Face could not be detected:  /content/kdeffaces/M25SU.jpg\n",
      "Face could not be detected:  /content/kdeffaces/M20SA.jpg\n",
      "Face could not be detected:  /content/kdeffaces/M16AN.jpg\n",
      "Face could not be detected:  /content/kdeffaces/F05SA.jpg\n",
      "Face could not be detected:  /content/kdeffaces/M33SA.jpg\n",
      "Face could not be detected:  /content/kdeffaces/F26DI.jpg\n",
      "Face could not be detected:  /content/kdeffaces/F21SA.jpg\n",
      "Face could not be detected:  /content/kdeffaces/M22AN.jpg\n",
      "Following file could not be parsed:  /content/kdeffaces/F28AHA.jpg\n",
      "Face could not be detected:  /content/kdeffaces/F04DI.jpg\n",
      "Face could not be detected:  /content/kdeffaces/F22SA.jpg\n",
      "Face could not be detected:  /content/kdeffaces/F28AF.jpg\n",
      "Face could not be detected:  /content/kdeffaces/M33AF.jpg\n",
      "Face could not be detected:  /content/kdeffaces/F20AF.jpg\n",
      "Face could not be detected:  /content/kdeffaces/F18SU.jpg\n",
      "Face could not be detected:  /content/kdeffaces/F06AF.jpg\n"
     ]
    }
   ],
   "source": [
    "# Extract features and form train & test predictor/outcome sets\r\n",
    "\r\n",
    "yale_train_X, yale_train_y, yale_test_X, yale_test_y = get_yale_train_test(yale_train, yale_test, yale_emotions) \r\n",
    "kdef_train_X, kdef_train_y, kdef_test_X, kdef_test_y = get_kdef_train_test(kdef_train, kdef_test, kdef_frame)"
   ]
  },
  {
   "cell_type": "markdown",
   "metadata": {
    "id": "jzY7lromnvZK"
   },
   "source": [
    "## **Classification Models**"
   ]
  },
  {
   "cell_type": "markdown",
   "metadata": {
    "id": "zJcI-chun4QC"
   },
   "source": [
    "### **Define models**"
   ]
  },
  {
   "cell_type": "code",
   "execution_count": null,
   "metadata": {
    "id": "HDzWbrmjnuP2"
   },
   "outputs": [],
   "source": [
    "model_dict = {'SVC-Linear': SVC(kernel='linear', tol=1e-5),\r\n",
    "              'SVC-Polynomial': SVC(kernel='poly', degree=2, tol=1e-5, class_weight='balanced'),\r\n",
    "              'KNN': KNeighborsClassifier(n_neighbors=5),\r\n",
    "              'OVR(SVC(Linear))': OneVsRestClassifier(SVC(kernel='linear', tol=1e-5)),\r\n",
    "              'XGBoost': XGBClassifier(n_estimators=500, random_state=22494)}\r\n",
    "\r\n",
    "#Following models found to be most useful after testing the previous dictionary of models\r\n",
    "\r\n",
    "model_dict_voting = {'SVC-Linear': SVC(kernel='linear', tol=1e-5),\r\n",
    "                     'XGBoost': XGBClassifier(n_estimators=500, random_state=22494),\r\n",
    "                     'OVR(SVC(Linear))': OneVsRestClassifier(SVC(kernel='linear', tol=1e-5))}"
   ]
  },
  {
   "cell_type": "markdown",
   "metadata": {
    "id": "yxl_as-PnRbL"
   },
   "source": [
    "### **Naive models: Yale faces**"
   ]
  },
  {
   "cell_type": "code",
   "execution_count": null,
   "metadata": {
    "colab": {
     "base_uri": "https://localhost:8080/"
    },
    "id": "fm3bKSvl0qjv",
    "outputId": "34e8b1e9-5a75-4168-c7b3-2afa25df4c96"
   },
   "outputs": [
    {
     "name": "stdout",
     "output_type": "stream",
     "text": [
      "Model:  SVC-Linear \n",
      "\n",
      "Training accuracy score:       1.0\n",
      "Test accuracy score:           0.5\n",
      "Test MCC score:                0.3431372549019608 \n",
      "\n",
      "Test Classification Report: \n",
      "\n",
      "              precision    recall  f1-score   support\n",
      "\n",
      "       happy       0.67      1.00      0.80         2\n",
      "      normal       0.50      0.40      0.44         5\n",
      "         sad       0.25      0.50      0.33         2\n",
      "      sleepy       1.00      0.33      0.50         3\n",
      "\n",
      "    accuracy                           0.50        12\n",
      "   macro avg       0.60      0.56      0.52        12\n",
      "weighted avg       0.61      0.50      0.50        12\n",
      "\n",
      "********************************************************************** \n",
      "\n",
      "Model:  SVC-Polynomial \n",
      "\n",
      "Training accuracy score:       1.0\n",
      "Test accuracy score:           0.08333333333333333\n",
      "Test MCC score:                -0.2191785018798023 \n",
      "\n",
      "Test Classification Report: \n",
      "\n",
      "              precision    recall  f1-score   support\n",
      "\n",
      "       happy       0.00      0.00      0.00         2\n",
      "      normal       0.33      0.20      0.25         5\n",
      "         sad       0.00      0.00      0.00         2\n",
      "      sleepy       0.00      0.00      0.00         3\n",
      "\n",
      "    accuracy                           0.08        12\n",
      "   macro avg       0.08      0.05      0.06        12\n",
      "weighted avg       0.14      0.08      0.10        12\n",
      "\n",
      "********************************************************************** \n",
      "\n",
      "Model:  KNN \n",
      "\n",
      "Training accuracy score:       1.0\n",
      "Test accuracy score:           0.16666666666666666\n",
      "Test MCC score:                -0.0700140042014005 \n",
      "\n",
      "Test Classification Report: \n",
      "\n",
      "              precision    recall  f1-score   support\n",
      "\n",
      "       happy       0.12      0.50      0.20         2\n",
      "      normal       0.50      0.20      0.29         5\n",
      "         sad       0.00      0.00      0.00         2\n",
      "      sleepy       0.00      0.00      0.00         3\n",
      "\n",
      "    accuracy                           0.17        12\n",
      "   macro avg       0.16      0.17      0.12        12\n",
      "weighted avg       0.23      0.17      0.15        12\n",
      "\n",
      "********************************************************************** \n",
      "\n",
      "Model:  OVR(SVC(Linear)) \n",
      "\n",
      "Training accuracy score:       1.0\n",
      "Test accuracy score:           0.5\n",
      "Test MCC score:                0.39215686274509803 \n",
      "\n",
      "Test Classification Report: \n",
      "\n",
      "              precision    recall  f1-score   support\n",
      "\n",
      "       happy       0.33      0.50      0.40         2\n",
      "      normal       1.00      0.40      0.57         5\n",
      "         sad       0.20      0.50      0.29         2\n",
      "      sleepy       1.00      0.67      0.80         3\n",
      "\n",
      "    accuracy                           0.50        12\n",
      "   macro avg       0.63      0.52      0.51        12\n",
      "weighted avg       0.76      0.50      0.55        12\n",
      "\n",
      "********************************************************************** \n",
      "\n",
      "Model:  XGBoost \n",
      "\n",
      "Training accuracy score:       1.0\n",
      "Test accuracy score:           0.5\n",
      "Test MCC score:                0.35007002100700246 \n",
      "\n",
      "Test Classification Report: \n",
      "\n",
      "              precision    recall  f1-score   support\n",
      "\n",
      "       happy       1.00      1.00      1.00         2\n",
      "      normal       0.50      0.40      0.44         5\n",
      "         sad       0.20      0.50      0.29         2\n",
      "      sleepy       1.00      0.33      0.50         3\n",
      "\n",
      "    accuracy                           0.50        12\n",
      "   macro avg       0.68      0.56      0.56        12\n",
      "weighted avg       0.66      0.50      0.52        12\n",
      "\n",
      "********************************************************************** \n",
      "\n"
     ]
    }
   ],
   "source": [
    "for k,v in model_dict.items():\r\n",
    "  print('Model: ', k, '\\n')\r\n",
    "  naive_classification(v, yale_train_X, yale_train_y, yale_test_X, yale_test_y, yale_emotions)\r\n",
    "  print('*'*70, '\\n')"
   ]
  },
  {
   "cell_type": "markdown",
   "metadata": {
    "id": "EH066IFZnbe4"
   },
   "source": [
    "### **Cross validation models: Yale faces**"
   ]
  },
  {
   "cell_type": "code",
   "execution_count": null,
   "metadata": {
    "colab": {
     "base_uri": "https://localhost:8080/"
    },
    "id": "ZCVqmhHN1pA9",
    "outputId": "66ce7953-0e03-4e95-e278-7a3067fb27d2"
   },
   "outputs": [
    {
     "name": "stdout",
     "output_type": "stream",
     "text": [
      "Model:  SVC-Linear \n",
      "\n",
      "CV accuracy (mean):            0.5333333333333334\n",
      "CV accuracy (std. dev.):       0.12472191289246469\n",
      "CV predict MCC score:          0.37819823175073325 \n",
      "\n",
      "CV Classification Report: \n",
      "\n",
      "              precision    recall  f1-score   support\n",
      "\n",
      "       happy       0.93      0.87      0.90        15\n",
      "      normal       0.24      0.27      0.25        15\n",
      "         sad       0.33      0.33      0.33        15\n",
      "      sleepy       0.71      0.67      0.69        15\n",
      "\n",
      "    accuracy                           0.53        60\n",
      "   macro avg       0.55      0.53      0.54        60\n",
      "weighted avg       0.55      0.53      0.54        60\n",
      "\n",
      "********************************************************************** \n",
      "\n",
      "Model:  SVC-Polynomial \n",
      "\n",
      "CV accuracy (mean):            0.16666666666666669\n",
      "CV accuracy (std. dev.):       0.12909944487358058\n",
      "CV predict MCC score:          -0.11240923106537389 \n",
      "\n",
      "CV Classification Report: \n",
      "\n",
      "              precision    recall  f1-score   support\n",
      "\n",
      "       happy       0.16      0.20      0.18        15\n",
      "      normal       0.14      0.13      0.14        15\n",
      "         sad       0.17      0.20      0.18        15\n",
      "      sleepy       0.22      0.13      0.17        15\n",
      "\n",
      "    accuracy                           0.17        60\n",
      "   macro avg       0.17      0.17      0.17        60\n",
      "weighted avg       0.17      0.17      0.17        60\n",
      "\n",
      "********************************************************************** \n",
      "\n",
      "Model:  KNN \n",
      "\n",
      "CV accuracy (mean):            0.21666666666666665\n",
      "CV accuracy (std. dev.):       0.13017082793177756\n",
      "CV predict MCC score:          -0.04639260004261474 \n",
      "\n",
      "CV Classification Report: \n",
      "\n",
      "              precision    recall  f1-score   support\n",
      "\n",
      "       happy       0.15      0.20      0.17        15\n",
      "      normal       0.25      0.40      0.31        15\n",
      "         sad       0.36      0.27      0.31        15\n",
      "      sleepy       0.00      0.00      0.00        15\n",
      "\n",
      "    accuracy                           0.22        60\n",
      "   macro avg       0.19      0.22      0.20        60\n",
      "weighted avg       0.19      0.22      0.20        60\n",
      "\n",
      "********************************************************************** \n",
      "\n",
      "Model:  OVR(SVC(Linear)) \n",
      "\n",
      "CV accuracy (mean):            0.5833333333333334\n",
      "CV accuracy (std. dev.):       0.15365907428821476\n",
      "CV predict MCC score:          0.44493909617733324 \n",
      "\n",
      "CV Classification Report: \n",
      "\n",
      "              precision    recall  f1-score   support\n",
      "\n",
      "       happy       0.93      0.87      0.90        15\n",
      "      normal       0.29      0.27      0.28        15\n",
      "         sad       0.35      0.40      0.38        15\n",
      "      sleepy       0.80      0.80      0.80        15\n",
      "\n",
      "    accuracy                           0.58        60\n",
      "   macro avg       0.59      0.58      0.59        60\n",
      "weighted avg       0.59      0.58      0.59        60\n",
      "\n",
      "********************************************************************** \n",
      "\n",
      "Model:  XGBoost \n",
      "\n",
      "CV accuracy (mean):            0.45\n",
      "CV accuracy (std. dev.):       0.10671873729054748\n",
      "CV predict MCC score:          0.2679599653058858 \n",
      "\n",
      "CV Classification Report: \n",
      "\n",
      "              precision    recall  f1-score   support\n",
      "\n",
      "       happy       0.78      0.93      0.85        15\n",
      "      normal       0.18      0.13      0.15        15\n",
      "         sad       0.27      0.27      0.27        15\n",
      "      sleepy       0.44      0.47      0.45        15\n",
      "\n",
      "    accuracy                           0.45        60\n",
      "   macro avg       0.42      0.45      0.43        60\n",
      "weighted avg       0.42      0.45      0.43        60\n",
      "\n",
      "********************************************************************** \n",
      "\n"
     ]
    }
   ],
   "source": [
    "for k,v in model_dict.items():\r\n",
    "  print('Model: ', k, '\\n')\r\n",
    "  cv_classification(v, yale_train_X, yale_train_y, yale_test_X, yale_test_y, yale_emotions)\r\n",
    "  print('*'*70, '\\n')"
   ]
  },
  {
   "cell_type": "markdown",
   "metadata": {
    "id": "Z00Pi-6Vp3L1"
   },
   "source": [
    "### **Voting model: Yale faces**"
   ]
  },
  {
   "cell_type": "code",
   "execution_count": null,
   "metadata": {
    "colab": {
     "base_uri": "https://localhost:8080/"
    },
    "id": "aMhQ9Kbsp9rj",
    "outputId": "b1ebf377-c9d0-4292-e130-805be3a42570"
   },
   "outputs": [
    {
     "name": "stdout",
     "output_type": "stream",
     "text": [
      "CV accuracy (mean):            0.5166666666666667\n",
      "CV accuracy (std. dev.):       0.21666666666666665\n",
      "CV predict MCC score:          0.36415399573275675 \n",
      "\n",
      "CV Classification Report: \n",
      "\n",
      "              precision    recall  f1-score   support\n",
      "\n",
      "       happy       0.79      1.00      0.88        15\n",
      "      normal       0.27      0.40      0.32        15\n",
      "         sad       0.22      0.13      0.17        15\n",
      "      sleepy       0.80      0.53      0.64        15\n",
      "\n",
      "    accuracy                           0.52        60\n",
      "   macro avg       0.52      0.52      0.50        60\n",
      "weighted avg       0.52      0.52      0.50        60\n",
      "\n"
     ]
    }
   ],
   "source": [
    "estimator_list = []\r\n",
    "for k,v in model_dict.items():\r\n",
    "  estimator_list.append((k,v))\r\n",
    "eclf = VotingClassifier(estimator_list,voting='hard')\r\n",
    "cv_classification(eclf, yale_train_X, yale_train_y, yale_test_X, yale_test_y, yale_emotions)"
   ]
  },
  {
   "cell_type": "markdown",
   "metadata": {
    "id": "NAfvdZLPowBV"
   },
   "source": [
    "### **Naive models: KDEF faces**\r\n"
   ]
  },
  {
   "cell_type": "code",
   "execution_count": null,
   "metadata": {
    "colab": {
     "base_uri": "https://localhost:8080/"
    },
    "id": "n3_f3A_j0tbd",
    "outputId": "69e9a711-2c86-4729-c312-b67651d900df"
   },
   "outputs": [
    {
     "name": "stdout",
     "output_type": "stream",
     "text": [
      "Model:  SVC-Linear \n",
      "\n",
      "Training accuracy score:       1.0\n",
      "Test accuracy score:           0.7340425531914894\n",
      "Test MCC score:                0.6879167675939143 \n",
      "\n",
      "Test Classification Report: \n",
      "\n",
      "              precision    recall  f1-score   support\n",
      "\n",
      "     Fearful       0.46      0.55      0.50        11\n",
      "   Surprised       0.84      0.89      0.86        18\n",
      "       Angry       0.71      0.75      0.73        16\n",
      "     Neutral       0.77      0.71      0.74        14\n",
      "         Sad       0.58      0.54      0.56        13\n",
      "   Disgusted       0.78      0.70      0.74        10\n",
      "       Happy       1.00      0.92      0.96        12\n",
      "\n",
      "    accuracy                           0.73        94\n",
      "   macro avg       0.73      0.72      0.73        94\n",
      "weighted avg       0.74      0.73      0.74        94\n",
      "\n",
      "********************************************************************** \n",
      "\n",
      "Model:  SVC-Polynomial \n",
      "\n",
      "Training accuracy score:       1.0\n",
      "Test accuracy score:           0.3723404255319149\n",
      "Test MCC score:                0.27016659272697935 \n",
      "\n",
      "Test Classification Report: \n",
      "\n",
      "              precision    recall  f1-score   support\n",
      "\n",
      "     Fearful       0.24      0.45      0.31        11\n",
      "   Surprised       0.67      0.44      0.53        18\n",
      "       Angry       0.54      0.88      0.67        16\n",
      "     Neutral       0.00      0.00      0.00        14\n",
      "         Sad       0.17      0.23      0.19        13\n",
      "   Disgusted       0.33      0.10      0.15        10\n",
      "       Happy       0.57      0.33      0.42        12\n",
      "\n",
      "    accuracy                           0.37        94\n",
      "   macro avg       0.36      0.35      0.33        94\n",
      "weighted avg       0.38      0.37      0.35        94\n",
      "\n",
      "********************************************************************** \n",
      "\n",
      "Model:  KNN \n",
      "\n",
      "Training accuracy score:       1.0\n",
      "Test accuracy score:           0.5531914893617021\n",
      "Test MCC score:                0.4767239846506128 \n",
      "\n",
      "Test Classification Report: \n",
      "\n",
      "              precision    recall  f1-score   support\n",
      "\n",
      "     Fearful       0.27      0.27      0.27        11\n",
      "   Surprised       0.65      0.61      0.63        18\n",
      "       Angry       0.57      0.75      0.65        16\n",
      "     Neutral       0.40      0.57      0.47        14\n",
      "         Sad       0.38      0.23      0.29        13\n",
      "   Disgusted       0.67      0.40      0.50        10\n",
      "       Happy       1.00      0.92      0.96        12\n",
      "\n",
      "    accuracy                           0.55        94\n",
      "   macro avg       0.56      0.54      0.54        94\n",
      "weighted avg       0.56      0.55      0.55        94\n",
      "\n",
      "********************************************************************** \n",
      "\n",
      "Model:  OVR(SVC(Linear)) \n",
      "\n",
      "Training accuracy score:       1.0\n",
      "Test accuracy score:           0.7021276595744681\n",
      "Test MCC score:                0.650635458491131 \n",
      "\n",
      "Test Classification Report: \n",
      "\n",
      "              precision    recall  f1-score   support\n",
      "\n",
      "     Fearful       0.62      0.45      0.53        11\n",
      "   Surprised       0.74      0.78      0.76        18\n",
      "       Angry       0.67      0.62      0.65        16\n",
      "     Neutral       0.59      0.71      0.65        14\n",
      "         Sad       0.62      0.62      0.62        13\n",
      "   Disgusted       0.70      0.70      0.70        10\n",
      "       Happy       1.00      1.00      1.00        12\n",
      "\n",
      "    accuracy                           0.70        94\n",
      "   macro avg       0.70      0.70      0.70        94\n",
      "weighted avg       0.70      0.70      0.70        94\n",
      "\n",
      "********************************************************************** \n",
      "\n",
      "Model:  XGBoost \n",
      "\n",
      "Training accuracy score:       1.0\n",
      "Test accuracy score:           0.6914893617021277\n",
      "Test MCC score:                0.6386484403407039 \n",
      "\n",
      "Test Classification Report: \n",
      "\n",
      "              precision    recall  f1-score   support\n",
      "\n",
      "     Fearful       0.50      0.36      0.42        11\n",
      "   Surprised       0.89      0.89      0.89        18\n",
      "       Angry       0.57      0.75      0.65        16\n",
      "     Neutral       0.75      0.64      0.69        14\n",
      "         Sad       0.54      0.54      0.54        13\n",
      "   Disgusted       0.75      0.60      0.67        10\n",
      "       Happy       0.79      0.92      0.85        12\n",
      "\n",
      "    accuracy                           0.69        94\n",
      "   macro avg       0.68      0.67      0.67        94\n",
      "weighted avg       0.69      0.69      0.69        94\n",
      "\n",
      "********************************************************************** \n",
      "\n"
     ]
    }
   ],
   "source": [
    "for k,v in model_dict.items():\r\n",
    "  print('Model: ', k, '\\n')\r\n",
    "  naive_classification(v, kdef_train_X, kdef_train_y, kdef_test_X, kdef_test_y, kdef_frame[\"Target emotion\"].unique())\r\n",
    "  print('*'*70, '\\n')"
   ]
  },
  {
   "cell_type": "markdown",
   "metadata": {
    "id": "UlfuaYLaoPTE"
   },
   "source": [
    "### **Cross validation models: KDEF faces**"
   ]
  },
  {
   "cell_type": "code",
   "execution_count": null,
   "metadata": {
    "colab": {
     "base_uri": "https://localhost:8080/"
    },
    "id": "_bvdWwK7rAd_",
    "outputId": "f5aa0845-23a3-42f7-82d6-c744563a4b92"
   },
   "outputs": [
    {
     "name": "stdout",
     "output_type": "stream",
     "text": [
      "Model:  SVC-Linear \n",
      "\n",
      "CV accuracy (mean):            0.7169750231267346\n",
      "CV accuracy (std. dev.):       0.06236279943804054\n",
      "CV predict MCC score:          0.6704029398391255 \n",
      "\n",
      "CV Classification Report: \n",
      "\n",
      "              precision    recall  f1-score   support\n",
      "\n",
      "     Fearful       0.46      0.55      0.50        64\n",
      "   Surprised       0.72      0.75      0.73        64\n",
      "       Angry       0.70      0.74      0.72        68\n",
      "     Neutral       0.78      0.80      0.79        70\n",
      "         Sad       0.66      0.59      0.62        63\n",
      "   Disgusted       0.80      0.68      0.73        65\n",
      "       Happy       0.94      0.90      0.92        69\n",
      "\n",
      "    accuracy                           0.72       463\n",
      "   macro avg       0.72      0.71      0.72       463\n",
      "weighted avg       0.73      0.72      0.72       463\n",
      "\n",
      "********************************************************************** \n",
      "\n",
      "Model:  SVC-Polynomial \n",
      "\n",
      "CV accuracy (mean):            0.4403330249768733\n",
      "CV accuracy (std. dev.):       0.07471846715167876\n",
      "CV predict MCC score:          0.3604935913648981 \n",
      "\n",
      "CV Classification Report: \n",
      "\n",
      "              precision    recall  f1-score   support\n",
      "\n",
      "     Fearful       0.37      0.58      0.45        64\n",
      "   Surprised       0.62      0.47      0.54        64\n",
      "       Angry       0.34      0.76      0.47        68\n",
      "     Neutral       0.36      0.43      0.39        70\n",
      "         Sad       0.61      0.22      0.33        63\n",
      "   Disgusted       0.14      0.02      0.03        65\n",
      "       Happy       0.83      0.58      0.68        69\n",
      "\n",
      "    accuracy                           0.44       463\n",
      "   macro avg       0.47      0.44      0.41       463\n",
      "weighted avg       0.47      0.44      0.41       463\n",
      "\n",
      "********************************************************************** \n",
      "\n",
      "Model:  KNN \n",
      "\n",
      "CV accuracy (mean):            0.5335800185013876\n",
      "CV accuracy (std. dev.):       0.08053689301143648\n",
      "CV predict MCC score:          0.4601853751188532 \n",
      "\n",
      "CV Classification Report: \n",
      "\n",
      "              precision    recall  f1-score   support\n",
      "\n",
      "     Fearful       0.36      0.39      0.38        64\n",
      "   Surprised       0.63      0.56      0.60        64\n",
      "       Angry       0.56      0.65      0.60        68\n",
      "     Neutral       0.42      0.71      0.53        70\n",
      "         Sad       0.45      0.32      0.37        63\n",
      "   Disgusted       0.54      0.22      0.31        65\n",
      "       Happy       0.83      0.84      0.83        69\n",
      "\n",
      "    accuracy                           0.53       463\n",
      "   macro avg       0.54      0.53      0.52       463\n",
      "weighted avg       0.54      0.53      0.52       463\n",
      "\n",
      "********************************************************************** \n",
      "\n",
      "Model:  OVR(SVC(Linear)) \n",
      "\n",
      "CV accuracy (mean):            0.7149398704902868\n",
      "CV accuracy (std. dev.):       0.0537651764219341\n",
      "CV predict MCC score:          0.6675459390147023 \n",
      "\n",
      "CV Classification Report: \n",
      "\n",
      "              precision    recall  f1-score   support\n",
      "\n",
      "     Fearful       0.56      0.55      0.55        64\n",
      "   Surprised       0.72      0.73      0.73        64\n",
      "       Angry       0.72      0.69      0.71        68\n",
      "     Neutral       0.73      0.84      0.78        70\n",
      "         Sad       0.65      0.57      0.61        63\n",
      "   Disgusted       0.66      0.66      0.66        65\n",
      "       Happy       0.93      0.93      0.93        69\n",
      "\n",
      "    accuracy                           0.71       463\n",
      "   macro avg       0.71      0.71      0.71       463\n",
      "weighted avg       0.71      0.71      0.71       463\n",
      "\n",
      "********************************************************************** \n",
      "\n",
      "Model:  XGBoost \n",
      "\n",
      "CV accuracy (mean):            0.7235892691951897\n",
      "CV accuracy (std. dev.):       0.056614775108929476\n",
      "CV predict MCC score:          0.6779884932654666 \n",
      "\n",
      "CV Classification Report: \n",
      "\n",
      "              precision    recall  f1-score   support\n",
      "\n",
      "     Fearful       0.58      0.45      0.51        64\n",
      "   Surprised       0.74      0.75      0.74        64\n",
      "       Angry       0.71      0.74      0.72        68\n",
      "     Neutral       0.74      0.84      0.79        70\n",
      "         Sad       0.64      0.67      0.65        63\n",
      "   Disgusted       0.74      0.65      0.69        65\n",
      "       Happy       0.87      0.94      0.90        69\n",
      "\n",
      "    accuracy                           0.72       463\n",
      "   macro avg       0.72      0.72      0.72       463\n",
      "weighted avg       0.72      0.72      0.72       463\n",
      "\n",
      "********************************************************************** \n",
      "\n"
     ]
    }
   ],
   "source": [
    "for k,v in model_dict.items():\r\n",
    "  print('Model: ', k, '\\n')\r\n",
    "  cv_classification(v, kdef_train_X, kdef_train_y, kdef_test_X, kdef_test_y, kdef_frame[\"Target emotion\"].unique())\r\n",
    "  print('*'*70, '\\n')"
   ]
  },
  {
   "cell_type": "markdown",
   "metadata": {
    "id": "cTcWOW4zqi05"
   },
   "source": [
    "### **Voting model: KDEF faces**"
   ]
  },
  {
   "cell_type": "code",
   "execution_count": null,
   "metadata": {
    "colab": {
     "base_uri": "https://localhost:8080/"
    },
    "id": "BJ4sG67T9v2B",
    "outputId": "f3d29523-101f-4efb-97c5-8514ed5b2438"
   },
   "outputs": [
    {
     "name": "stdout",
     "output_type": "stream",
     "text": [
      "CV accuracy (mean):            0.6868177613320999\n",
      "CV accuracy (std. dev.):       0.06456044888979118\n",
      "CV predict MCC score:          0.6372416613909999 \n",
      "\n",
      "CV Classification Report: \n",
      "\n",
      "              precision    recall  f1-score   support\n",
      "\n",
      "     Fearful       0.46      0.62      0.53        64\n",
      "   Surprised       0.72      0.66      0.69        64\n",
      "       Angry       0.65      0.79      0.72        68\n",
      "     Neutral       0.71      0.81      0.76        70\n",
      "         Sad       0.60      0.46      0.52        63\n",
      "   Disgusted       0.79      0.51      0.62        65\n",
      "       Happy       0.97      0.91      0.94        69\n",
      "\n",
      "    accuracy                           0.69       463\n",
      "   macro avg       0.70      0.68      0.68       463\n",
      "weighted avg       0.70      0.69      0.69       463\n",
      "\n"
     ]
    }
   ],
   "source": [
    "estimator_list = []\r\n",
    "for k,v in model_dict.items():\r\n",
    "  estimator_list.append((k,v))\r\n",
    "eclf = VotingClassifier(estimator_list,voting='hard')\r\n",
    "cv_classification(eclf, kdef_train_X, kdef_train_y, kdef_test_X, kdef_test_y, df[\"Target emotion\"].unique())"
   ]
  },
  {
   "cell_type": "markdown",
   "metadata": {
    "id": "iM8xeB0pZVv1"
   },
   "source": [
    "## **Best Model Metrics**\r\n",
    "\r\n",
    "Although full classification reports are accessible under the classification model cells, it is better to print the best models clearly. As mentioned in the foreword, we will use MCC to determine the best classifier."
   ]
  },
  {
   "cell_type": "markdown",
   "metadata": {
    "id": "Lq9SWbROZ5M-"
   },
   "source": [
    "### **Yale Faces**\r\n",
    "\r\n",
    "\r\n",
    "---\r\n",
    "\r\n",
    "One vs Rest multiclass strategy combined with Linear SVM"
   ]
  },
  {
   "cell_type": "code",
   "execution_count": null,
   "metadata": {
    "colab": {
     "base_uri": "https://localhost:8080/"
    },
    "id": "MjkudEpCamZ5",
    "outputId": "b5fe8c19-3281-4d4e-b39a-6ad83496d8b6"
   },
   "outputs": [
    {
     "name": "stdout",
     "output_type": "stream",
     "text": [
      "CV accuracy (mean):            0.5833333333333334\n",
      "CV accuracy (std. dev.):       0.15365907428821476\n",
      "CV predict MCC score:          0.44493909617733324 \n",
      "\n",
      "CV Classification Report: \n",
      "\n",
      "              precision    recall  f1-score   support\n",
      "\n",
      "       happy       0.93      0.87      0.90        15\n",
      "      normal       0.29      0.27      0.28        15\n",
      "         sad       0.35      0.40      0.38        15\n",
      "      sleepy       0.80      0.80      0.80        15\n",
      "\n",
      "    accuracy                           0.58        60\n",
      "   macro avg       0.59      0.58      0.59        60\n",
      "weighted avg       0.59      0.58      0.59        60\n",
      "\n"
     ]
    }
   ],
   "source": [
    "cv_classification(OneVsRestClassifier(SVC(kernel='linear', tol=1e-5)), yale_train_X, yale_train_y, yale_test_X, yale_test_y, yale_emotions)"
   ]
  },
  {
   "cell_type": "markdown",
   "metadata": {
    "id": "cVf1lMRkbDGg"
   },
   "source": [
    "### **KDEF Faces**\r\n",
    "\r\n",
    "\r\n",
    "---\r\n",
    "\r\n",
    "XGBoost"
   ]
  },
  {
   "cell_type": "code",
   "execution_count": null,
   "metadata": {
    "colab": {
     "base_uri": "https://localhost:8080/"
    },
    "id": "atYWfoeCbVLz",
    "outputId": "86177bdb-6880-4804-b106-23b0ecd21849"
   },
   "outputs": [
    {
     "name": "stdout",
     "output_type": "stream",
     "text": [
      "CV accuracy (mean):            0.7235892691951897\n",
      "CV accuracy (std. dev.):       0.056614775108929476\n",
      "CV predict MCC score:          0.6779884932654666 \n",
      "\n",
      "CV Classification Report: \n",
      "\n",
      "              precision    recall  f1-score   support\n",
      "\n",
      "     Fearful       0.58      0.45      0.51        64\n",
      "   Surprised       0.74      0.75      0.74        64\n",
      "       Angry       0.71      0.74      0.72        68\n",
      "     Neutral       0.74      0.84      0.79        70\n",
      "         Sad       0.64      0.67      0.65        63\n",
      "   Disgusted       0.74      0.65      0.69        65\n",
      "       Happy       0.87      0.94      0.90        69\n",
      "\n",
      "    accuracy                           0.72       463\n",
      "   macro avg       0.72      0.72      0.72       463\n",
      "weighted avg       0.72      0.72      0.72       463\n",
      "\n"
     ]
    }
   ],
   "source": [
    "cv_classification(XGBClassifier(n_estimators=500, random_state=22494), kdef_train_X, kdef_train_y, kdef_test_X, kdef_test_y, kdef_frame[\"Target emotion\"].unique())"
   ]
  },
  {
   "cell_type": "markdown",
   "metadata": {
    "id": "8xqgV9e9vKx_"
   },
   "source": [
    "## **Print Predicted Probabilities** "
   ]
  },
  {
   "cell_type": "markdown",
   "metadata": {
    "id": "MTY2-S2eDTLW"
   },
   "source": [
    "### **Random Yale Face**"
   ]
  },
  {
   "cell_type": "code",
   "execution_count": null,
   "metadata": {
    "colab": {
     "base_uri": "https://localhost:8080/"
    },
    "id": "vgkiO3qyQR-n",
    "outputId": "feb30ee7-2f3b-4d1f-edb1-18dab1496bc4"
   },
   "outputs": [
    {
     "name": "stdout",
     "output_type": "stream",
     "text": [
      "happy   :   0.043\n",
      "normal  :   0.166\n",
      "sad     :   0.196\n",
      "sleepy  :   0.595\n",
      "\n",
      "*** True label is sleepy ***\n",
      "\n"
     ]
    },
    {
     "data": {
      "image/png": "[encoded data removed]",
      "text/plain": [
       "<PIL.GifImagePlugin.GifImageFile image mode=L size=320x243 at 0x7F7AC5400550>"
      ]
     },
     "execution_count": 12,
     "metadata": {
      "tags": []
     },
     "output_type": "execute_result"
    }
   ],
   "source": [
    "#Print the predicted probaiblities for each emotional state and the image\r\n",
    "# - Change the random seed to get new random image and respective probabilities \r\n",
    "\r\n",
    "random.seed(22494)\r\n",
    "random_image_index = random.randint(0, len(yale_train_X+yale_test_X))\r\n",
    "\r\n",
    "model = OneVsRestClassifier(SVC(kernel='linear', tol=1e-5, probability=True))\r\n",
    "model.fit(yale_train_X+yale_test_X, yale_train_y+yale_test_y)\r\n",
    "probability_list = model.predict_proba(yale_train_X+yale_test_X)[random_image_index]\r\n",
    "\r\n",
    "for i in range(len(probability_list)):\r\n",
    "  print(yale_emotions[i].ljust(7), \":\".ljust(3), round(probability_list[i],3))\r\n",
    "\r\n",
    "merged_list = yale_train+yale_test\r\n",
    "print('\\n*** True label is', merged_list[random_image_index][merged_list[random_image_index].rindex('.')+1:] + ' ***\\n')\r\n",
    "Image.open(merged_list[random_image_index])"
   ]
  },
  {
   "cell_type": "markdown",
   "metadata": {
    "id": "orgRnd_eDaHp"
   },
   "source": [
    "### **Random KDEF Face**"
   ]
  },
  {
   "cell_type": "code",
   "execution_count": null,
   "metadata": {
    "colab": {
     "base_uri": "https://localhost:8080/",
     "height": 513
    },
    "id": "f8H7JWCqVqQq",
    "outputId": "7274278b-6549-4e64-fed7-fc3b02286fcf"
   },
   "outputs": [
    {
     "name": "stdout",
     "output_type": "stream",
     "text": [
      "Fearful   :   0.984\n",
      "Surprised :   0.0\n",
      "Angry     :   0.001\n",
      "Neutral   :   0.008\n",
      "Sad       :   0.008\n",
      "Disgusted :   0.0\n",
      "Happy     :   0.0\n",
      "\n",
      "*** True label is Fearful ***\n",
      "\n"
     ]
    },
    {
     "data": {
      "image/png": "[encoded data removed]",
      "text/plain": [
       "<PIL.JpegImagePlugin.JpegImageFile image mode=RGB size=326x326 at 0x7F7AC510E710>"
      ]
     },
     "execution_count": 20,
     "metadata": {
      "tags": []
     },
     "output_type": "execute_result"
    }
   ],
   "source": [
    "#Print the predicted probaiblities for each emotional state and the image\r\n",
    "# - Change the random seed to get new random image and respective probabilities \r\n",
    "\r\n",
    "random.seed(22494)\r\n",
    "random_image_index = random.randint(0, len(kdef_train_X+kdef_test_X))\r\n",
    "\r\n",
    "model = XGBClassifier(n_estimators=500, random_state=22494)\r\n",
    "model.fit(np.array(kdef_train_X+kdef_test_X), np.array(kdef_train_y+kdef_test_y))\r\n",
    "probability_list = model.predict_proba(kdef_train_X+kdef_test_X)[random_image_index]\r\n",
    "\r\n",
    "values = kdef_frame[\"Target emotion\"].unique()\r\n",
    "for i in range(len(probability_list)):\r\n",
    "  print(values[i].ljust(9), \":\".ljust(3), round(probability_list[i],3))\r\n",
    "\r\n",
    "merged_list = kdef_train+kdef_test\r\n",
    "prefix = merged_list[random_image_index][merged_list[random_image_index].rindex('/')+1:merged_list[random_image_index].rindex('.')]\r\n",
    "df_index = kdef_frame[kdef_frame[\"KDEF code\"] == prefix].index[0]\r\n",
    "print('\\n*** True label is', kdef_frame[\"Target emotion\"][df_index] + ' ***\\n')\r\n",
    "Image.open(merged_list[random_image_index])"
   ]
  }
 ],
 "metadata": {
  "colab": {
   "collapsed_sections": [
    "zJcI-chun4QC",
    "yxl_as-PnRbL",
    "EH066IFZnbe4",
    "Z00Pi-6Vp3L1",
    "NAfvdZLPowBV",
    "UlfuaYLaoPTE",
    "cTcWOW4zqi05",
    "Lq9SWbROZ5M-",
    "MTY2-S2eDTLW"
   ],
   "name": "Image Classification Notebook: ref. BAP-2020-936 .ipynb",
   "provenance": [],
   "toc_visible": true
  },
  "kernelspec": {
   "display_name": "Python 3",
   "language": "python",
   "name": "python3"
  },
  "language_info": {
   "codemirror_mode": {
    "name": "ipython",
    "version": 3
   },
   "file_extension": ".py",
   "mimetype": "text/x-python",
   "name": "python",
   "nbconvert_exporter": "python",
   "pygments_lexer": "ipython3",
   "version": "3.8.2"
  }
 },
 "nbformat": 4,
 "nbformat_minor": 4
}
